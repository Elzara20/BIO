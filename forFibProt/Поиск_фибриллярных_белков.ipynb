{
  "nbformat": 4,
  "nbformat_minor": 0,
  "metadata": {
    "colab": {
      "provenance": []
    },
    "kernelspec": {
      "name": "python3",
      "display_name": "Python 3"
    },
    "language_info": {
      "name": "python"
    }
  },
  "cells": [
    {
      "cell_type": "markdown",
      "source": [
        "Источники:\n",
        "\n",
        "\n",
        "1) [Using InterProScan like a pro (статья 2016)](https://medium.com/computer-says-no/using-interproscan-like-a-pro-ad18b8c3ccc0)\n",
        "\n",
        "2) [файл iprscan5.py, но можно с помощью git (webservice-clients/python/iprscan5.py)](https://www.ebi.ac.uk/seqdb/confluence/display/JDSAT/InterProScan+5+Help+and+Documentation#InterProScan5HelpandDocumentation-RESTAPI) "
      ],
      "metadata": {
        "id": "lJH4gRxTc8iU"
      }
    },
    {
      "cell_type": "code",
      "execution_count": 1,
      "metadata": {
        "colab": {
          "base_uri": "https://localhost:8080/"
        },
        "id": "aEVE6W7fB23P",
        "outputId": "10bb07d9-f3fb-44f1-b08b-a3f6fc718ca1"
      },
      "outputs": [
        {
          "output_type": "stream",
          "name": "stdout",
          "text": [
            "Looking in indexes: https://pypi.org/simple, https://us-python.pkg.dev/colab-wheels/public/simple/\n",
            "Collecting biopython\n",
            "  Downloading biopython-1.80-cp38-cp38-manylinux_2_17_x86_64.manylinux2014_x86_64.whl (3.1 MB)\n",
            "\u001b[2K     \u001b[90m━━━━━━━━━━━━━━━━━━━━━━━━━━━━━━━━━━━━━━━━\u001b[0m \u001b[32m3.1/3.1 MB\u001b[0m \u001b[31m18.9 MB/s\u001b[0m eta \u001b[36m0:00:00\u001b[0m\n",
            "\u001b[?25hRequirement already satisfied: numpy in /usr/local/lib/python3.8/dist-packages (from biopython) (1.21.6)\n",
            "Installing collected packages: biopython\n",
            "Successfully installed biopython-1.80\n"
          ]
        }
      ],
      "source": [
        "!pip install biopython"
      ]
    },
    {
      "cell_type": "code",
      "source": [
        "import sys\n",
        "import Bio\n",
        "from Bio import SeqIO\n",
        "from Bio.Blast import NCBIWWW\n",
        "\n",
        "import urllib\n",
        "import os\n",
        "import re\n",
        "import glob # для файлов в папке\n",
        "\n",
        "from tqdm import tqdm\n",
        "import shutil\n",
        "from joblib import Parallel, delayed\n",
        "import numpy as np\n",
        "\n",
        "import requests\n",
        "import json\n",
        "\n",
        "from Bio.PDB import *\n",
        "from Bio.PDB.PDBIO import PDBIO\n",
        "\n",
        "import csv"
      ],
      "metadata": {
        "id": "cVxikGT4B-1A"
      },
      "execution_count": 2,
      "outputs": []
    },
    {
      "cell_type": "code",
      "source": [
        "import warnings\n",
        "warnings.filterwarnings('ignore')"
      ],
      "metadata": {
        "id": "qUf1lrNKCETj"
      },
      "execution_count": 3,
      "outputs": []
    },
    {
      "cell_type": "markdown",
      "source": [
        "# 1) Находим фибриллярные белки по ключевым словам"
      ],
      "metadata": {
        "id": "4lTlq5q5CKCi"
      }
    },
    {
      "cell_type": "code",
      "source": [
        "!git clone https://github.com/williamgilpin/pypdb.git"
      ],
      "metadata": {
        "colab": {
          "base_uri": "https://localhost:8080/"
        },
        "id": "DHxadh_uCTpl",
        "outputId": "0e6a1aa7-9c5e-48fd-8847-bb0ab4a9a1e2"
      },
      "execution_count": 4,
      "outputs": [
        {
          "output_type": "stream",
          "name": "stdout",
          "text": [
            "Cloning into 'pypdb'...\n",
            "remote: Enumerating objects: 859, done.\u001b[K\n",
            "remote: Counting objects: 100% (28/28), done.\u001b[K\n",
            "remote: Compressing objects: 100% (15/15), done.\u001b[K\n",
            "remote: Total 859 (delta 12), reused 18 (delta 11), pack-reused 831\u001b[K\n",
            "Receiving objects: 100% (859/859), 557.69 KiB | 13.60 MiB/s, done.\n",
            "Resolving deltas: 100% (471/471), done.\n"
          ]
        }
      ]
    },
    {
      "cell_type": "code",
      "source": [
        "print(\"Текущая директория:\", os.getcwd())\n",
        "os.chdir(\"/content/pypdb\")\n",
        "print(\"Текущая директория изменилась:\", os.getcwd())"
      ],
      "metadata": {
        "colab": {
          "base_uri": "https://localhost:8080/"
        },
        "id": "X5HeUWNjCU3j",
        "outputId": "6324c155-b904-4adf-f956-ac4097bdbbe8"
      },
      "execution_count": 5,
      "outputs": [
        {
          "output_type": "stream",
          "name": "stdout",
          "text": [
            "Текущая директория: /content\n",
            "Текущая директория изменилась: /content/pypdb\n"
          ]
        }
      ]
    },
    {
      "cell_type": "code",
      "source": [
        "from pypdb.clients.search.search_client import perform_search_with_graph\n",
        "from pypdb.clients.search.search_client import ReturnType\n",
        "from pypdb.clients.search.search_client import QueryGroup, LogicalOperator\n",
        "from pypdb.clients.search.operators import text_operators\n",
        "from pypdb import *"
      ],
      "metadata": {
        "id": "dYu0Pz8xC4yj"
      },
      "execution_count": 6,
      "outputs": []
    },
    {
      "cell_type": "code",
      "source": [
        "fib_protein = Query(\"fibrous | fibrillar\").search()\n",
        "len(fib_protein)"
      ],
      "metadata": {
        "colab": {
          "base_uri": "https://localhost:8080/"
        },
        "id": "wHgdE4ngChgr",
        "outputId": "524f60b6-ffc1-4502-eb8a-24e2ea653ff7"
      },
      "execution_count": 7,
      "outputs": [
        {
          "output_type": "execute_result",
          "data": {
            "text/plain": [
              "3663"
            ]
          },
          "metadata": {},
          "execution_count": 7
        }
      ]
    },
    {
      "cell_type": "code",
      "source": [
        "file1 = open(\"fibrous_fibrillar.txt\", \"w\")\n",
        "for i in fib_protein:\n",
        "  file1.writelines(f'{str(i)}\\n')\n",
        "file1.close()"
      ],
      "metadata": {
        "id": "x5WMzMVhYnkn"
      },
      "execution_count": null,
      "outputs": []
    },
    {
      "cell_type": "markdown",
      "source": [
        "#2) Скачиваю fasta файлы фибриллярных белков"
      ],
      "metadata": {
        "id": "Y421siUCmxsS"
      }
    },
    {
      "cell_type": "code",
      "source": [
        "%%bash \n",
        "mkdir /content/FIB_PROTEIN\n",
        "mkdir /content/FIB_PROTEIN/fasta"
      ],
      "metadata": {
        "id": "A81DsAZFni3O"
      },
      "execution_count": 8,
      "outputs": []
    },
    {
      "cell_type": "code",
      "source": [
        "def download_fasta(fastacode, datadir, downloadurl=\"https://www.rcsb.org/fasta/entry/\"):\n",
        "\n",
        "    url = downloadurl + fastacode\n",
        "    outfnm = os.path.join(datadir, fastacode)\n",
        "    try:\n",
        "        urllib.request.urlretrieve(url, outfnm)\n",
        "        return outfnm\n",
        "    except Exception as err:\n",
        "        print(str(err), file=sys.stderr)\n",
        "        return str(err) #None\n",
        "\n",
        "# бывают проблемы с фаста файлами, не всегда они есть, поэтому следующая функция\n",
        "def only_fasta(i_results):\n",
        "  if download_fasta(i_results, '/content/FIB_PROTEIN/fasta/') == 'HTTP Error 404: Not Found':\n",
        "    print(f'Нет fasta файла для белка {i_results}')\n",
        "  else:\n",
        "    download_fasta(i_results, '/content/FIB_PROTEIN/fasta/')\n",
        "# for i in fib_protein:\n",
        "only_fasta('1U5M')"
      ],
      "metadata": {
        "id": "p_jMkaPUmw2-"
      },
      "execution_count": 9,
      "outputs": []
    },
    {
      "cell_type": "code",
      "source": [
        "print(f\"количество белков = {len(fib_protein)}\")"
      ],
      "metadata": {
        "id": "UBqqzSPGr-07",
        "colab": {
          "base_uri": "https://localhost:8080/"
        },
        "outputId": "88cb4098-7fe2-4023-8071-cfd194e8fbdb"
      },
      "execution_count": null,
      "outputs": [
        {
          "output_type": "stream",
          "name": "stdout",
          "text": [
            "количество белков = 3663\n"
          ]
        }
      ]
    },
    {
      "cell_type": "code",
      "source": [
        "%%bash\n",
        "echo \"количество файлов = $(ls /content/FIB_PROTEIN/fasta | wc -l)\""
      ],
      "metadata": {
        "id": "CZXrTQgiqOIF",
        "colab": {
          "base_uri": "https://localhost:8080/"
        },
        "outputId": "cd544e74-bd24-4386-d49f-4f3f17c4651e"
      },
      "execution_count": null,
      "outputs": [
        {
          "output_type": "stream",
          "name": "stdout",
          "text": [
            "количество файлов = 3663\n"
          ]
        }
      ]
    },
    {
      "cell_type": "markdown",
      "source": [
        "# 3) Pазделение на домены "
      ],
      "metadata": {
        "id": "l2gN-AfcpDdh"
      }
    },
    {
      "cell_type": "markdown",
      "source": [
        "### 3.1) создание единого fasta файла (так нужно для дальнейшего поиска, для Pfam)"
      ],
      "metadata": {
        "id": "PNL3LNJHpRE9"
      }
    },
    {
      "cell_type": "code",
      "source": [
        "%%bash \n",
        "mkdir /content/FIB_PROTEIN/fasta_one"
      ],
      "metadata": {
        "id": "_0dnyah9pqt9"
      },
      "execution_count": 11,
      "outputs": []
    },
    {
      "cell_type": "code",
      "source": [
        "path = '/content/FIB_PROTEIN/fasta/*'\n",
        "for file in glob.glob(path):\n",
        "  with open(file, 'r') as pdb_file:\n",
        "    fasta_file=''\n",
        "    for record in SeqIO.parse(pdb_file, 'fasta'):\n",
        "      fasta_file+=record.seq\n",
        "    # print(pdb_file.name)\n",
        "    # print(pdb_file.name[27:])\n",
        "    # print(f'result={fasta_file}')\n",
        "    \n",
        "    with open(f\"/content/FIB_PROTEIN/fasta_one/{pdb_file.name[27:]}_new.fasta\", \"w\") as external_file:  \n",
        "      print('>' + pdb_file.name[27:], file=external_file)\n",
        "      print(fasta_file, file=external_file)\n",
        "    external_file.close()"
      ],
      "metadata": {
        "id": "NKKjVTWgpC-_"
      },
      "execution_count": 12,
      "outputs": []
    },
    {
      "cell_type": "markdown",
      "source": [
        "### 3.2) Pfam"
      ],
      "metadata": {
        "id": "2bAYptyS0WsO"
      }
    },
    {
      "cell_type": "code",
      "source": [
        "print(\"Текущая директория:\", os.getcwd())\n",
        "os.chdir(\"/content/FIB_PROTEIN\")\n",
        "print(\"Текущая директория изменилась:\", os.getcwd())"
      ],
      "metadata": {
        "colab": {
          "base_uri": "https://localhost:8080/"
        },
        "id": "P8ooC-Tt2UfC",
        "outputId": "d12cdb5c-54fc-490d-8263-3e1f0904f767"
      },
      "execution_count": 13,
      "outputs": [
        {
          "output_type": "stream",
          "name": "stdout",
          "text": [
            "Текущая директория: /content/pypdb\n",
            "Текущая директория изменилась: /content/FIB_PROTEIN\n"
          ]
        }
      ]
    },
    {
      "cell_type": "code",
      "source": [
        "%%bash \n",
        "mkdir /content/FIB_PROTEIN/InterPro\n",
        "mkdir /content/FIB_PROTEIN/InterPro/tsv_result"
      ],
      "metadata": {
        "id": "WTRELiv32Y1T"
      },
      "execution_count": 14,
      "outputs": []
    },
    {
      "cell_type": "code",
      "source": [
        "%%bash\n",
        "#!/bin/bash\n",
        "for file in /content/FIB_PROTEIN/fasta_one/*\n",
        "do\n",
        "\techo file=$file\n",
        "\tfilename=`basename ${file%%.*}`\n",
        "  echo filename=$filename\n",
        "\tname_protein=$(echo $filename | cut -c 1-4 )\n",
        "  echo protein=$name_protein\n",
        "done"
      ],
      "metadata": {
        "id": "Gx5g7V_u7PsH",
        "colab": {
          "base_uri": "https://localhost:8080/"
        },
        "outputId": "e1947084-2d57-4622-de7f-5704658f1829"
      },
      "execution_count": 15,
      "outputs": [
        {
          "output_type": "stream",
          "name": "stdout",
          "text": [
            "file=/content/FIB_PROTEIN/fasta_one/1U5M_new.fasta\n",
            "filename=1U5M_new\n",
            "protein=1U5M\n"
          ]
        }
      ]
    },
    {
      "cell_type": "code",
      "source": [
        "# !rm -r /content/FIB_PROTEIN/Pfam/"
      ],
      "metadata": {
        "id": "aiEprSlI-8vM"
      },
      "execution_count": null,
      "outputs": []
    },
    {
      "cell_type": "code",
      "source": [
        "!cd /content\n",
        "!git clone https://github.com/ebi-wp/webservice-clients.git\n",
        "!cd webservice-clients"
      ],
      "metadata": {
        "colab": {
          "base_uri": "https://localhost:8080/"
        },
        "id": "XpLDjTKJe4Q1",
        "outputId": "9b9ad0db-ec84-41d1-8c93-303d60dedcfb"
      },
      "execution_count": 16,
      "outputs": [
        {
          "output_type": "stream",
          "name": "stdout",
          "text": [
            "Cloning into 'webservice-clients'...\n",
            "remote: Enumerating objects: 20567, done.\u001b[K\n",
            "remote: Counting objects: 100% (488/488), done.\u001b[K\n",
            "remote: Compressing objects: 100% (242/242), done.\u001b[K\n",
            "remote: Total 20567 (delta 419), reused 302 (delta 245), pack-reused 20079\u001b[K\n",
            "Receiving objects: 100% (20567/20567), 240.50 MiB | 24.27 MiB/s, done.\n",
            "Resolving deltas: 100% (15265/15265), done.\n"
          ]
        }
      ]
    },
    {
      "cell_type": "code",
      "source": [
        "!pip install xmltramp2==3.0.10"
      ],
      "metadata": {
        "colab": {
          "base_uri": "https://localhost:8080/"
        },
        "id": "GWEFCf_3cV9N",
        "outputId": "af6857d8-92b3-40ce-ba9e-c7fb910bb003"
      },
      "execution_count": 17,
      "outputs": [
        {
          "output_type": "stream",
          "name": "stdout",
          "text": [
            "Looking in indexes: https://pypi.org/simple, https://us-python.pkg.dev/colab-wheels/public/simple/\n",
            "Collecting xmltramp2==3.0.10\n",
            "  Downloading xmltramp2-3.0.10.tar.gz (6.5 kB)\n",
            "  Preparing metadata (setup.py) ... \u001b[?25l\u001b[?25hdone\n",
            "Requirement already satisfied: six in /usr/local/lib/python3.8/dist-packages (from xmltramp2==3.0.10) (1.15.0)\n",
            "Building wheels for collected packages: xmltramp2\n",
            "  Building wheel for xmltramp2 (setup.py) ... \u001b[?25l\u001b[?25hdone\n",
            "  Created wheel for xmltramp2: filename=xmltramp2-3.0.10-py3-none-any.whl size=7305 sha256=2e2def5725b5ebacc4642681bcced60b6475f5d507af9d3a15cc574d4fc8202f\n",
            "  Stored in directory: /root/.cache/pip/wheels/e0/a2/86/df51835a4089613017a5029b4125eee71d9c7770a7916d78f5\n",
            "Successfully built xmltramp2\n",
            "Installing collected packages: xmltramp2\n",
            "Successfully installed xmltramp2-3.0.10\n"
          ]
        }
      ]
    },
    {
      "cell_type": "code",
      "source": [
        "%%bash\n",
        "for j in $(find `pwd` -type f -name \"1A31_new.fasta\")\n",
        "do\n",
        "    echo \"Iteration: $i; File: $j\"\n",
        "    filename1=`basename ${j%%.*}`\n",
        "    filename2=$(basename \"$j\")\n",
        "    echo $filename1, $filename2\n",
        "done"
      ],
      "metadata": {
        "colab": {
          "base_uri": "https://localhost:8080/"
        },
        "id": "--nDPsUbe9Hn",
        "outputId": "c2c24529-256a-47da-f7f5-6ae875312c6e"
      },
      "execution_count": null,
      "outputs": [
        {
          "output_type": "stream",
          "name": "stdout",
          "text": [
            "Iteration: ; File: /content/FIB_PROTEIN/fasta_one/1A31_new.fasta\n",
            "1A31_new, 1A31_new.fasta\n"
          ]
        }
      ]
    },
    {
      "cell_type": "code",
      "source": [
        "%%bash\n",
        "#!/bin/bash\n",
        "i=1\n",
        "waitevery=30\n",
        "\n",
        "filename=/content/FIB_PROTEIN/fasta_one/1A31_new.fasta\n",
        "\n",
        "for j in $(find `pwd` -type f -name \"*_new.fasta\")\n",
        "do\n",
        "    echo \"Iteration: $i; File: $j\"\n",
        "    filename=`basename ${j%%.*}`\n",
        "    \n",
        "\n",
        "    echo $filename\n",
        "    python3 /content/FIB_PROTEIN/webservice-clients/python/iprscan5.py \\\n",
        "        --goterms \\\n",
        "        --pathways \\\n",
        "        --email=e.mazinova@g.nsu.ru \\\n",
        "        --outfile=/content/FIB_PROTEIN/InterPro/tsv_result/${filename} \\\n",
        "        --outformat=tsv \\\n",
        "        --quiet \\\n",
        "        $j & (( i++%waitevery==0 )) && wait\n",
        "done"
      ],
      "metadata": {
        "id": "aW6bw4gqa0B6",
        "colab": {
          "base_uri": "https://localhost:8080/",
          "height": 536
        },
        "outputId": "ca397317-9b3d-4150-f475-2a82d65680c8"
      },
      "execution_count": 18,
      "outputs": [
        {
          "output_type": "stream",
          "name": "stdout",
          "text": [
            "Iteration: 1; File: /content/FIB_PROTEIN/fasta_one/1U5M_new.fasta\n",
            "1U5M_new\n",
            "iprscan5-R20230125-062628-0335-95058856-p1m\n"
          ]
        },
        {
          "output_type": "error",
          "ename": "CalledProcessError",
          "evalue": "ignored",
          "traceback": [
            "\u001b[0;31m---------------------------------------------------------------------------\u001b[0m",
            "\u001b[0;31mCalledProcessError\u001b[0m                        Traceback (most recent call last)",
            "\u001b[0;32m<ipython-input-18-ef6df253f425>\u001b[0m in \u001b[0;36m<module>\u001b[0;34m\u001b[0m\n\u001b[0;32m----> 1\u001b[0;31m \u001b[0mget_ipython\u001b[0m\u001b[0;34m(\u001b[0m\u001b[0;34m)\u001b[0m\u001b[0;34m.\u001b[0m\u001b[0mrun_cell_magic\u001b[0m\u001b[0;34m(\u001b[0m\u001b[0;34m'bash'\u001b[0m\u001b[0;34m,\u001b[0m \u001b[0;34m''\u001b[0m\u001b[0;34m,\u001b[0m \u001b[0;34m'#!/bin/bash\\ni=1\\nwaitevery=30\\n\\nfilename=/content/FIB_PROTEIN/fasta_one/1A31_new.fasta\\n\\nfor j in $(find `pwd` -type f -name \"*_new.fasta\")\\ndo\\n    echo \"Iteration: $i; File: $j\"\\n    filename=`basename ${j%%.*}`\\n    \\n\\n    echo $filename\\n    python3 /content/FIB_PROTEIN/webservice-clients/python/iprscan5.py \\\\\\n        --goterms \\\\\\n        --pathways \\\\\\n        --email=e.mazinova@g.nsu.ru \\\\\\n        --outfile=/content/FIB_PROTEIN/InterPro/tsv_result/${filename} \\\\\\n        --outformat=tsv \\\\\\n        --quiet \\\\\\n        $j & (( i++%waitevery==0 )) && wait\\ndone\\n'\u001b[0m\u001b[0;34m)\u001b[0m\u001b[0;34m\u001b[0m\u001b[0;34m\u001b[0m\u001b[0m\n\u001b[0m",
            "\u001b[0;32m/usr/local/lib/python3.8/dist-packages/IPython/core/interactiveshell.py\u001b[0m in \u001b[0;36mrun_cell_magic\u001b[0;34m(self, magic_name, line, cell)\u001b[0m\n\u001b[1;32m   2357\u001b[0m             \u001b[0;32mwith\u001b[0m \u001b[0mself\u001b[0m\u001b[0;34m.\u001b[0m\u001b[0mbuiltin_trap\u001b[0m\u001b[0;34m:\u001b[0m\u001b[0;34m\u001b[0m\u001b[0;34m\u001b[0m\u001b[0m\n\u001b[1;32m   2358\u001b[0m                 \u001b[0margs\u001b[0m \u001b[0;34m=\u001b[0m \u001b[0;34m(\u001b[0m\u001b[0mmagic_arg_s\u001b[0m\u001b[0;34m,\u001b[0m \u001b[0mcell\u001b[0m\u001b[0;34m)\u001b[0m\u001b[0;34m\u001b[0m\u001b[0;34m\u001b[0m\u001b[0m\n\u001b[0;32m-> 2359\u001b[0;31m                 \u001b[0mresult\u001b[0m \u001b[0;34m=\u001b[0m \u001b[0mfn\u001b[0m\u001b[0;34m(\u001b[0m\u001b[0;34m*\u001b[0m\u001b[0margs\u001b[0m\u001b[0;34m,\u001b[0m \u001b[0;34m**\u001b[0m\u001b[0mkwargs\u001b[0m\u001b[0;34m)\u001b[0m\u001b[0;34m\u001b[0m\u001b[0;34m\u001b[0m\u001b[0m\n\u001b[0m\u001b[1;32m   2360\u001b[0m             \u001b[0;32mreturn\u001b[0m \u001b[0mresult\u001b[0m\u001b[0;34m\u001b[0m\u001b[0;34m\u001b[0m\u001b[0m\n\u001b[1;32m   2361\u001b[0m \u001b[0;34m\u001b[0m\u001b[0m\n",
            "\u001b[0;32m/usr/local/lib/python3.8/dist-packages/IPython/core/magics/script.py\u001b[0m in \u001b[0;36mnamed_script_magic\u001b[0;34m(line, cell)\u001b[0m\n\u001b[1;32m    140\u001b[0m             \u001b[0;32melse\u001b[0m\u001b[0;34m:\u001b[0m\u001b[0;34m\u001b[0m\u001b[0;34m\u001b[0m\u001b[0m\n\u001b[1;32m    141\u001b[0m                 \u001b[0mline\u001b[0m \u001b[0;34m=\u001b[0m \u001b[0mscript\u001b[0m\u001b[0;34m\u001b[0m\u001b[0;34m\u001b[0m\u001b[0m\n\u001b[0;32m--> 142\u001b[0;31m             \u001b[0;32mreturn\u001b[0m \u001b[0mself\u001b[0m\u001b[0;34m.\u001b[0m\u001b[0mshebang\u001b[0m\u001b[0;34m(\u001b[0m\u001b[0mline\u001b[0m\u001b[0;34m,\u001b[0m \u001b[0mcell\u001b[0m\u001b[0;34m)\u001b[0m\u001b[0;34m\u001b[0m\u001b[0;34m\u001b[0m\u001b[0m\n\u001b[0m\u001b[1;32m    143\u001b[0m \u001b[0;34m\u001b[0m\u001b[0m\n\u001b[1;32m    144\u001b[0m         \u001b[0;31m# write a basic docstring:\u001b[0m\u001b[0;34m\u001b[0m\u001b[0;34m\u001b[0m\u001b[0;34m\u001b[0m\u001b[0m\n",
            "\u001b[0;32m<decorator-gen-103>\u001b[0m in \u001b[0;36mshebang\u001b[0;34m(self, line, cell)\u001b[0m\n",
            "\u001b[0;32m/usr/local/lib/python3.8/dist-packages/IPython/core/magic.py\u001b[0m in \u001b[0;36m<lambda>\u001b[0;34m(f, *a, **k)\u001b[0m\n\u001b[1;32m    185\u001b[0m     \u001b[0;31m# but it's overkill for just that one bit of state.\u001b[0m\u001b[0;34m\u001b[0m\u001b[0;34m\u001b[0m\u001b[0;34m\u001b[0m\u001b[0m\n\u001b[1;32m    186\u001b[0m     \u001b[0;32mdef\u001b[0m \u001b[0mmagic_deco\u001b[0m\u001b[0;34m(\u001b[0m\u001b[0marg\u001b[0m\u001b[0;34m)\u001b[0m\u001b[0;34m:\u001b[0m\u001b[0;34m\u001b[0m\u001b[0;34m\u001b[0m\u001b[0m\n\u001b[0;32m--> 187\u001b[0;31m         \u001b[0mcall\u001b[0m \u001b[0;34m=\u001b[0m \u001b[0;32mlambda\u001b[0m \u001b[0mf\u001b[0m\u001b[0;34m,\u001b[0m \u001b[0;34m*\u001b[0m\u001b[0ma\u001b[0m\u001b[0;34m,\u001b[0m \u001b[0;34m**\u001b[0m\u001b[0mk\u001b[0m\u001b[0;34m:\u001b[0m \u001b[0mf\u001b[0m\u001b[0;34m(\u001b[0m\u001b[0;34m*\u001b[0m\u001b[0ma\u001b[0m\u001b[0;34m,\u001b[0m \u001b[0;34m**\u001b[0m\u001b[0mk\u001b[0m\u001b[0;34m)\u001b[0m\u001b[0;34m\u001b[0m\u001b[0;34m\u001b[0m\u001b[0m\n\u001b[0m\u001b[1;32m    188\u001b[0m \u001b[0;34m\u001b[0m\u001b[0m\n\u001b[1;32m    189\u001b[0m         \u001b[0;32mif\u001b[0m \u001b[0mcallable\u001b[0m\u001b[0;34m(\u001b[0m\u001b[0marg\u001b[0m\u001b[0;34m)\u001b[0m\u001b[0;34m:\u001b[0m\u001b[0;34m\u001b[0m\u001b[0;34m\u001b[0m\u001b[0m\n",
            "\u001b[0;32m/usr/local/lib/python3.8/dist-packages/IPython/core/magics/script.py\u001b[0m in \u001b[0;36mshebang\u001b[0;34m(self, line, cell)\u001b[0m\n\u001b[1;32m    243\u001b[0m             \u001b[0msys\u001b[0m\u001b[0;34m.\u001b[0m\u001b[0mstderr\u001b[0m\u001b[0;34m.\u001b[0m\u001b[0mflush\u001b[0m\u001b[0;34m(\u001b[0m\u001b[0;34m)\u001b[0m\u001b[0;34m\u001b[0m\u001b[0;34m\u001b[0m\u001b[0m\n\u001b[1;32m    244\u001b[0m         \u001b[0;32mif\u001b[0m \u001b[0margs\u001b[0m\u001b[0;34m.\u001b[0m\u001b[0mraise_error\u001b[0m \u001b[0;32mand\u001b[0m \u001b[0mp\u001b[0m\u001b[0;34m.\u001b[0m\u001b[0mreturncode\u001b[0m\u001b[0;34m!=\u001b[0m\u001b[0;36m0\u001b[0m\u001b[0;34m:\u001b[0m\u001b[0;34m\u001b[0m\u001b[0;34m\u001b[0m\u001b[0m\n\u001b[0;32m--> 245\u001b[0;31m             \u001b[0;32mraise\u001b[0m \u001b[0mCalledProcessError\u001b[0m\u001b[0;34m(\u001b[0m\u001b[0mp\u001b[0m\u001b[0;34m.\u001b[0m\u001b[0mreturncode\u001b[0m\u001b[0;34m,\u001b[0m \u001b[0mcell\u001b[0m\u001b[0;34m,\u001b[0m \u001b[0moutput\u001b[0m\u001b[0;34m=\u001b[0m\u001b[0mout\u001b[0m\u001b[0;34m,\u001b[0m \u001b[0mstderr\u001b[0m\u001b[0;34m=\u001b[0m\u001b[0merr\u001b[0m\u001b[0;34m)\u001b[0m\u001b[0;34m\u001b[0m\u001b[0;34m\u001b[0m\u001b[0m\n\u001b[0m\u001b[1;32m    246\u001b[0m \u001b[0;34m\u001b[0m\u001b[0m\n\u001b[1;32m    247\u001b[0m     \u001b[0;32mdef\u001b[0m \u001b[0m_run_script\u001b[0m\u001b[0;34m(\u001b[0m\u001b[0mself\u001b[0m\u001b[0;34m,\u001b[0m \u001b[0mp\u001b[0m\u001b[0;34m,\u001b[0m \u001b[0mcell\u001b[0m\u001b[0;34m,\u001b[0m \u001b[0mto_close\u001b[0m\u001b[0;34m)\u001b[0m\u001b[0;34m:\u001b[0m\u001b[0;34m\u001b[0m\u001b[0;34m\u001b[0m\u001b[0m\n",
            "\u001b[0;31mCalledProcessError\u001b[0m: Command 'b'#!/bin/bash\\ni=1\\nwaitevery=30\\n\\nfilename=/content/FIB_PROTEIN/fasta_one/1A31_new.fasta\\n\\nfor j in $(find `pwd` -type f -name \"*_new.fasta\")\\ndo\\n    echo \"Iteration: $i; File: $j\"\\n    filename=`basename ${j%%.*}`\\n    \\n\\n    echo $filename\\n    python3 /content/FIB_PROTEIN/webservice-clients/python/iprscan5.py \\\\\\n        --goterms \\\\\\n        --pathways \\\\\\n        --email=e.mazinova@g.nsu.ru \\\\\\n        --outfile=/content/FIB_PROTEIN/InterPro/tsv_result/${filename} \\\\\\n        --outformat=tsv \\\\\\n        --quiet \\\\\\n        $j & (( i++%waitevery==0 )) && wait\\ndone\\n'' returned non-zero exit status 1."
          ]
        }
      ]
    },
    {
      "cell_type": "code",
      "source": [
        "find_protein_after_domains=[]\n",
        "for file in glob.glob(\"/home/elzara/FIB_PROTEIN/InterPro/tsv_result/1*_new.tsv.tsv\"):\n",
        "  print(f\"file = {file}\")\n",
        "  tsv_file = csv.reader(file, delimiter=\"\\t\")\n",
        "  print(tsv_file)\n",
        "  for line in tsv_file:\n",
        "    print(line)\n",
        "    if (line[3] == \"Pfam\"):\n",
        "      find_word = re.findall('(fibr[a-z]+)|(fiber)', line[5])\n",
        "      if len(find_word)!=0:\n",
        "        print(f\"FIND FIBROUS PROTEIN ===> {line[0]}\")\n",
        "        find_protein_after_domains.append(line[0])\n",
        "    # print(f\"program = {line[3]} => name = {line[5]}   /////  start={line[6]}, end={line[7]}\")"
      ],
      "metadata": {
        "id": "AV0y558GJJS6"
      },
      "execution_count": 22,
      "outputs": []
    },
    {
      "cell_type": "code",
      "source": [
        "find_protein_after_domains=[]\n",
        "for file in glob.glob(\"/home/elzara/FIB_PROTEIN/InterPro/tsv_result/1*_new.tsv.tsv\"):\n",
        "        with open(file) as protein:\n",
        "                print(f\"protein = {protein}\")\n",
        "                tsv_file = csv.reader(protein, delimiter=\"\\t\")\n",
        "                for line in tsv_file:\n",
        "                        print(f\"line of tsv file:\\n{line}\")\n",
        "                        if (line[3] == \"Pfam\"):\n",
        "                                find_word = re.findall('(fibr[a-z]+)|(fiber)', line[5])\n",
        "                                if len(find_word)!=0:\n",
        "                                        print(f\"FIND FIBROUS PROTEIN ===> {line[0]}\")\n",
        "                                        find_protein_after_domains.append(line[0])"
      ],
      "metadata": {
        "id": "BCYAsWaRpfbT"
      },
      "execution_count": 26,
      "outputs": []
    },
    {
      "cell_type": "code",
      "source": [
        "import csv\n",
        "with open(\"/content/FIB_PROTEIN/InterPro/tsv_result/1U5M_new.tsv.tsv\") as file:\n",
        "  tsv_file = csv.reader(file, delimiter=\"\\t\")\n",
        "  for line in tsv_file:\n",
        "    print(f\"program = {line[3]} => name = {line[5]}   /////  start={line[6]}, end={line[7]}\") "
      ],
      "metadata": {
        "colab": {
          "base_uri": "https://localhost:8080/"
        },
        "id": "EClJhMOTTqy6",
        "outputId": "bcee586d-8bbd-4899-8709-ee2d6db7bfac"
      },
      "execution_count": 25,
      "outputs": [
        {
          "output_type": "stream",
          "name": "stdout",
          "text": [
            "program = Pfam => name = von Willebrand factor type C domain   /////  start=10, end=65\n",
            "program = Gene3D => name = Complement Module, domain 1   /////  start=9, end=44\n",
            "program = SMART => name = vwc   /////  start=10, end=65\n",
            "program = SUPERFAMILY => name = FnI-like domain   /////  start=8, end=67\n",
            "program = ProSiteProfiles => name = VWFC domain profile.   /////  start=8, end=66\n",
            "program = ProSitePatterns => name = VWFC domain signature.   /////  start=28, end=65\n",
            "program = FunFam => name = Collagen, type I, alpha 1   /////  start=9, end=44\n"
          ]
        }
      ]
    },
    {
      "cell_type": "code",
      "source": [
        "import csv\n",
        "with open(\"/content/1A31_new.tsv.tsv\") as file:\n",
        "  tsv_file = csv.reader(file, delimiter=\"\\t\")\n",
        "  for line in tsv_file:\n",
        "    print(f\"program = {line[3]} => name = {line[5]}   /////  start={line[6]}, end={line[7]}\")      "
      ],
      "metadata": {
        "colab": {
          "base_uri": "https://localhost:8080/"
        },
        "id": "-x2p0uL7AlCy",
        "outputId": "033dd554-ecd7-40c3-9bcd-ed7d3d85c3c9"
      },
      "execution_count": null,
      "outputs": [
        {
          "output_type": "stream",
          "name": "stdout",
          "text": [
            "program = PANTHER => name = DNA TOPOISOMERASE I   /////  start=45, end=635\n",
            "program = Phobius => name = Signal peptide region   /////  start=1, end=26\n",
            "program = Phobius => name = Hydrophobic region of a signal peptide.   /////  start=3, end=14\n",
            "program = CDD => name = Topo_IB_C   /////  start=308, end=508\n",
            "program = Phobius => name = N-terminal region of a signal peptide.   /////  start=1, end=2\n",
            "program = FunFam => name = DNA topoisomerase I   /////  start=190, end=299\n",
            "program = MobiDBLite => name = consensus disorder prediction   /////  start=45, end=66\n",
            "program = Coils => name = Coil   /////  start=514, end=548\n",
            "program = Gene3D => name = Topoisomerase I; Chain A, domain 3   /////  start=302, end=456\n",
            "program = SignalP_GRAM_POSITIVE => name = SignalP-TM   /////  start=1, end=26\n",
            "program = Phobius => name = C-terminal region of a signal peptide.   /////  start=15, end=26\n",
            "program = Gene3D => name = -   /////  start=457, end=635\n",
            "program = SignalP_GRAM_NEGATIVE => name = SignalP-noTM   /////  start=1, end=16\n",
            "program = MobiDBLite => name = consensus disorder prediction   /////  start=39, end=66\n",
            "program = Pfam => name = Eukaryotic DNA topoisomerase I, catalytic core   /////  start=302, end=533\n",
            "program = Gene3D => name = DNA Topoisomerase I, domain 2   /////  start=74, end=299\n",
            "program = SUPERFAMILY => name = Eukaryotic DNA topoisomerase I, N-terminal DNA-binding fragment   /////  start=72, end=300\n",
            "program = PRINTS => name = Eukaryotic DNA topoisomerase I signature   /////  start=344, end=363\n",
            "program = PRINTS => name = Eukaryotic DNA topoisomerase I signature   /////  start=587, end=598\n",
            "program = PRINTS => name = Eukaryotic DNA topoisomerase I signature   /////  start=230, end=239\n",
            "program = PRINTS => name = Eukaryotic DNA topoisomerase I signature   /////  start=453, end=467\n",
            "program = PRINTS => name = Eukaryotic DNA topoisomerase I signature   /////  start=395, end=411\n",
            "program = PRINTS => name = Eukaryotic DNA topoisomerase I signature   /////  start=368, end=382\n",
            "program = FunFam => name = DNA topoisomerase I   /////  start=457, end=635\n",
            "program = Gene3D => name = -   /////  start=102, end=189\n",
            "program = Pfam => name = C-terminal topoisomerase domain   /////  start=565, end=635\n",
            "program = Pfam => name = Eukaryotic DNA topoisomerase I, DNA binding fragment   /////  start=85, end=299\n",
            "program = CDD => name = Topoisomer_IB_N_htopoI_like   /////  start=86, end=300\n",
            "program = SUPERFAMILY => name = DNA breaking-rejoining enzymes   /////  start=302, end=634\n",
            "program = Phobius => name = Region of a membrane-bound protein predicted to be outside the membrane, in the extracellular region.   /////  start=27, end=635\n",
            "program = SMART => name = topeu   /////  start=230, end=607\n",
            "program = ProSitePatterns => name = Eukaryotic DNA topoisomerase I active site.   /////  start=580, end=598\n",
            "program = FunFam => name = DNA topoisomerase I   /////  start=102, end=189\n",
            "program = FunFam => name = DNA topoisomerase I   /////  start=302, end=456\n",
            "program = Coils => name = Coil   /////  start=180, end=207\n",
            "program = Coils => name = Coil   /////  start=554, end=581\n",
            "program = SUPERFAMILY => name = Eukaryotic DNA topoisomerase I, dispensable insert domain   /////  start=511, end=582\n"
          ]
        }
      ]
    },
    {
      "cell_type": "code",
      "source": [
        "\n",
        "%%bash\n",
        "file=/content/FIB_PROTEIN/fasta_one/1A31_new.fasta\n",
        "curl -LH 'Expect:' -F seq=$file -F output=xml 'https://www.ebi.ac.uk/interpro/search/sequence/' > /content/res_$name_protein.xml"
      ],
      "metadata": {
        "id": "VvWhpNzh6v8d"
      },
      "execution_count": null,
      "outputs": []
    },
    {
      "cell_type": "code",
      "source": [
        "find_protein_after_domains=[]\n",
        "with open('out_of_fibrous.txt', 'w') as f:\n",
        "  for file in glob.glob(\"/home/elzara/FIB_PROTEIN/InterPro/tsv_result/*_new.tsv.tsv\"):\n",
        "    with open(file) as protein:\n",
        "      # print(f\"protein = {protein}\")\n",
        "      tsv_file = csv.reader(protein, delimiter=\"\\t\")\n",
        "      for line in tsv_file:\n",
        "        # print(f\"line of tsv file:\\n{line}\")\n",
        "        #if (line[3] == \"Pfam\"):\n",
        "        #print(f\"prot = {line[0]}\")\n",
        "        #print(f\"name = {line[5]}\")\n",
        "        find_word = re.findall('([Ff]ibr[a-z]+)|([Ff]iber)|([Cc]ollagen)|([Kk]eratin)|([Ee]lastin)', lin>      if len(find_word)!=0:\n",
        "          print(f\"{line[0][4:]}\")\n",
        "          print(f\"find pattern = {find_word}\")\n",
        "          print(f\"name = {line[5]}\")\n",
        "          find_protein_after_domains.append(line[0][4:])"
      ],
      "metadata": {
        "id": "kFoVjE6LDJb1"
      },
      "execution_count": null,
      "outputs": []
    }
  ]
}